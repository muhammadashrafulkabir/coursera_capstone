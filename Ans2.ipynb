{
 "cells": [
  {
   "cell_type": "code",
   "execution_count": 4,
   "metadata": {},
   "outputs": [
    {
     "data": {
      "text/plain": [
       "(103, 3)"
      ]
     },
     "execution_count": 4,
     "metadata": {},
     "output_type": "execute_result"
    }
   ],
   "source": [
    "import pandas as pd\n",
    "import numpy as np\n",
    "import requests\n",
    "from bs4 import BeautifulSoup\n",
    "from urllib.parse import urljoin\n",
    "\n",
    "\n",
    "\n",
    "res = requests.get(\"https://en.wikipedia.org/wiki/List_of_postal_codes_of_Canada:_M\").text\n",
    "#print(res)\n",
    "soup = BeautifulSoup(res,\"lxml\")\n",
    "\n",
    "\n",
    "\n",
    "df = pd.DataFrame(columns=['Postal Code','Borough','Neighbourhood']) # I know the size\n",
    "\n",
    "\n",
    "\n",
    "for table in soup.findAll(\"table\", {\"class\": \"wikitable sortable\"}):\n",
    "    row_marker = 0\n",
    "    #iterate and apply logic to clean the data\n",
    "    for row in table.find_all('tr'):\n",
    "        if(len(row)==6):\n",
    "            columns = row.find_all('td')\n",
    "            if len(columns)>0:\n",
    "                nan=0\n",
    "                if columns[1].text!='Not assigned':\n",
    "                    if columns[2].text=='Not assigned\\n':\n",
    "                        #df.loc[df['Postal Code'] == columns[0].text] = columns[1].text\n",
    "                        #print(df.loc[df['Postal Code'] == columns[0].text].values)\n",
    "                        #columns[2].text=columns[1].text\n",
    "                        nan=1\n",
    "                        \n",
    "\n",
    "\n",
    "                        #print(columns[1].text)\n",
    "                    \n",
    "                    for ind,t in df.iterrows():\n",
    "                        if t['Borough']==columns[1].text:\n",
    "                            t['Neighbourhood']=t['Neighbourhood']+\", \"+columns[2].text\n",
    "                           \n",
    "                    if columns[0].text not in df.values:\n",
    "                     \n",
    "                        if nan != 0:\n",
    "                            #append to the empty dataframe\n",
    "                            df=df.append({'Postal Code':columns[0].text,'Borough':columns[1].text,'Neighbourhood':columns[1].text},ignore_index=True)\n",
    "                        else:\n",
    "                            df=df.append({'Postal Code':columns[0].text,'Borough':columns[1].text,'Neighbourhood':columns[2].text},ignore_index=True)\n",
    "                            nan=0\n",
    "\n",
    "#Replace all \\n\n",
    "df=df.replace(to_replace='\\n', value='', regex=True)\n",
    "\n",
    "#print(df)\n",
    "#df\n",
    "df.shape"
   ]
  },
  {
   "cell_type": "code",
   "execution_count": null,
   "metadata": {},
   "outputs": [],
   "source": []
  }
 ],
 "metadata": {
  "kernelspec": {
   "display_name": "Python 3",
   "language": "python",
   "name": "python3"
  },
  "language_info": {
   "codemirror_mode": {
    "name": "ipython",
    "version": 3
   },
   "file_extension": ".py",
   "mimetype": "text/x-python",
   "name": "python",
   "nbconvert_exporter": "python",
   "pygments_lexer": "ipython3",
   "version": "3.7.0"
  }
 },
 "nbformat": 4,
 "nbformat_minor": 2
}
