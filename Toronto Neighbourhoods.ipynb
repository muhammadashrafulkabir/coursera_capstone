{
    "nbformat_minor": 1, 
    "cells": [
        {
            "execution_count": 1, 
            "cell_type": "code", 
            "metadata": {}, 
            "outputs": [
                {
                    "output_type": "stream", 
                    "name": "stdout", 
                    "text": "Waiting for a Spark session to start...\nSpark Initialization Done! ApplicationId = app-20181001042200-0000\n"
                }
            ], 
            "source": "import pandas as pd\nimport numpy as np\nimport requests\nfrom bs4 import BeautifulSoup\nfrom urllib.parse import urljoin"
        }, 
        {
            "execution_count": 75, 
            "cell_type": "code", 
            "metadata": {}, 
            "outputs": [
                {
                    "execution_count": 75, 
                    "metadata": {}, 
                    "data": {
                        "text/plain": "(212, 3)"
                    }, 
                    "output_type": "execute_result"
                }
            ], 
            "source": "res = requests.get(\"https://en.wikipedia.org/wiki/List_of_postal_codes_of_Canada:_M\").text\n#print(res)\nsoup = BeautifulSoup(res,\"lxml\")\n\n\n\ndf = pd.DataFrame(columns=['Postal Code','Borough','Neighbourhood']) # I know the size \nfor table in soup.findAll(\"table\", {\"class\": \"wikitable sortable\"}):\n    row_marker = 0\n    #iterate and apply logic to clean the data\n    for row in table.find_all('tr'):\n        if(len(row)==6):\n            columns = row.find_all('td')\n            if len(columns)>0:\n                if columns[1].text!='Not assigned':\n                    if columns[2].text=='Not assigned':\n                        columns[2].text=columns[1].text\n                    for ind,t in df.iterrows():\n                        if t['Borough']==columns[1].text:\n                            t['Neighbourhood']=t['Neighbourhood']+\", \"+columns[2].text\n\n                    #append to the empty dataframe\n                    df=df.append({'Postal Code':columns[0].text,'Borough':columns[1].text,'Neighbourhood':columns[2].text},ignore_index=True)\n\n\n#Replace all \\n\ndf=df.replace(to_replace='\\n', value='', regex=True)\n#print(df)\n\ndf.shape\n"
        }, 
        {
            "execution_count": null, 
            "cell_type": "code", 
            "metadata": {}, 
            "outputs": [], 
            "source": ""
        }
    ], 
    "metadata": {
        "kernelspec": {
            "display_name": "Python 3.5 with Spark", 
            "name": "python3", 
            "language": "python3"
        }, 
        "language_info": {
            "mimetype": "text/x-python", 
            "nbconvert_exporter": "python", 
            "version": "3.5.4", 
            "name": "python", 
            "file_extension": ".py", 
            "pygments_lexer": "ipython3", 
            "codemirror_mode": {
                "version": 3, 
                "name": "ipython"
            }
        }
    }, 
    "nbformat": 4
}